{
 "cells": [
  {
   "cell_type": "markdown",
   "id": "b7416372",
   "metadata": {
    "id": "b7416372"
   },
   "source": [
    "# Introduction\n",
    "## \" Understanding Classification Model Performance Metrics \"\n",
    "\n",
    "Our group consists of four members, and this is a collaborative project. The members are:\n",
    "\n",
    "- Mahesh Rajendra\n",
    "- Bhavitha Bojja\n",
    "- Mamatha Singh\n",
    "- Nandini Srirapu\n"
   ]
  },
  {
   "cell_type": "markdown",
   "id": "be1f2fc9",
   "metadata": {
    "id": "be1f2fc9"
   },
   "source": [
    "## Data Summary\n",
    "\n",
    "The dataset has 180 observations and 11 columns in which only three attributes are used for analysis:\n",
    "1) **class**: the actual classification for the observation  \n",
    "\n",
    "2) **scored.class**: the predicted classification for the observation (can only be ‘0’ or ‘1’; identified by comparing the classification model’s probability score (i.e., the likelihood that the correct classification for an observation is a ‘1’) for the observation against a 0.50 threshold)\n",
    "\n",
    "3) **scored.probability**: the classification model’s probability score (i.e., the likelihood that the correct classification for an observation is a ‘1’) for the observation\n"
   ]
  },
  {
   "cell_type": "markdown",
   "id": "05c38eec",
   "metadata": {
    "id": "05c38eec"
   },
   "source": [
    "## Plan/Methodology\n",
    "\n",
    "1. **Data Acquisition** : The data in CSV format is retrieved from GitHub.\n",
    "\n",
    "2. **Data Wrangling** : Ensuring dataset has no null or missing values.\n",
    "\n",
    "3. **Calculation of Metrics without pre-built methods** : Python code functions that calculates a suite of classification model performance metrics.\n",
    "\n",
    "4. **Calculation of Metrics using pre-built methods** : Using  pre-built Python functions that automatically calculate those same metrics and comparing the results with previous methods(python code functions)."
   ]
  },
  {
   "cell_type": "markdown",
   "id": "f1695a94",
   "metadata": {
    "id": "f1695a94"
   },
   "source": [
    "## Data Acquisition"
   ]
  },
  {
   "cell_type": "code",
   "execution_count": 1,
   "id": "a3a2d6c7",
   "metadata": {
    "id": "a3a2d6c7"
   },
   "outputs": [],
   "source": [
    "import pandas as pd\n",
    "import numpy as np\n",
    "import seaborn as sns\n",
    "import matplotlib.pyplot as plt"
   ]
  },
  {
   "cell_type": "code",
   "execution_count": 2,
   "id": "75da9d62",
   "metadata": {
    "colab": {
     "base_uri": "https://localhost:8080/"
    },
    "id": "75da9d62",
    "outputId": "72e17b1c-37ec-4978-d690-b7369f0c5f33"
   },
   "outputs": [
    {
     "data": {
      "text/plain": [
       "(181, 11)"
      ]
     },
     "execution_count": 2,
     "metadata": {},
     "output_type": "execute_result"
    }
   ],
   "source": [
    "data_url = 'https://raw.githubusercontent.com/Bhavitha-Bojja/DAV-6150/refs/heads/main/M5_Data.csv'\n",
    "df = pd.read_csv(data_url)\n",
    "\n",
    "# shape of the data\n",
    "df.shape"
   ]
  },
  {
   "cell_type": "code",
   "execution_count": 3,
   "id": "d3f831da",
   "metadata": {
    "colab": {
     "base_uri": "https://localhost:8080/",
     "height": 206
    },
    "id": "d3f831da",
    "outputId": "a1e5576f-8803-48b9-8f59-95bb15136bd7"
   },
   "outputs": [
    {
     "data": {
      "application/vnd.google.colaboratory.intrinsic+json": {
       "summary": "{\n  \"name\": \"df\",\n  \"rows\": 181,\n  \"fields\": [\n    {\n      \"column\": \"pregnant\",\n      \"properties\": {\n        \"dtype\": \"number\",\n        \"std\": 3,\n        \"min\": 0,\n        \"max\": 15,\n        \"num_unique_values\": 15,\n        \"samples\": [\n          0,\n          6,\n          7\n        ],\n        \"semantic_type\": \"\",\n        \"description\": \"\"\n      }\n    },\n    {\n      \"column\": \"glucose\",\n      \"properties\": {\n        \"dtype\": \"number\",\n        \"std\": 30,\n        \"min\": 57,\n        \"max\": 197,\n        \"num_unique_values\": 89,\n        \"samples\": [\n          147,\n          154,\n          187\n        ],\n        \"semantic_type\": \"\",\n        \"description\": \"\"\n      }\n    },\n    {\n      \"column\": \"diastolic\",\n      \"properties\": {\n        \"dtype\": \"number\",\n        \"std\": 11,\n        \"min\": 38,\n        \"max\": 104,\n        \"num_unique_values\": 33,\n        \"samples\": [\n          94,\n          88,\n          80\n        ],\n        \"semantic_type\": \"\",\n        \"description\": \"\"\n      }\n    },\n    {\n      \"column\": \"skinfold\",\n      \"properties\": {\n        \"dtype\": \"number\",\n        \"std\": 15,\n        \"min\": 0,\n        \"max\": 54,\n        \"num_unique_values\": 43,\n        \"samples\": [\n          20,\n          35,\n          38\n        ],\n        \"semantic_type\": \"\",\n        \"description\": \"\"\n      }\n    },\n    {\n      \"column\": \"insulin\",\n      \"properties\": {\n        \"dtype\": \"number\",\n        \"std\": 88,\n        \"min\": 0,\n        \"max\": 543,\n        \"num_unique_values\": 65,\n        \"samples\": [\n          125,\n          122,\n          215\n        ],\n        \"semantic_type\": \"\",\n        \"description\": \"\"\n      }\n    },\n    {\n      \"column\": \"bmi\",\n      \"properties\": {\n        \"dtype\": \"number\",\n        \"std\": 6.659934768703715,\n        \"min\": 19.4,\n        \"max\": 50.0,\n        \"num_unique_values\": 123,\n        \"samples\": [\n          40.5,\n          31.9,\n          39.4\n        ],\n        \"semantic_type\": \"\",\n        \"description\": \"\"\n      }\n    },\n    {\n      \"column\": \"pedigree\",\n      \"properties\": {\n        \"dtype\": \"number\",\n        \"std\": 0.28400557171234986,\n        \"min\": 0.085,\n        \"max\": 2.288,\n        \"num_unique_values\": 161,\n        \"samples\": [\n          0.293,\n          0.141,\n          0.187\n        ],\n        \"semantic_type\": \"\",\n        \"description\": \"\"\n      }\n    },\n    {\n      \"column\": \"age\",\n      \"properties\": {\n        \"dtype\": \"number\",\n        \"std\": 11,\n        \"min\": 21,\n        \"max\": 67,\n        \"num_unique_values\": 41,\n        \"samples\": [\n          50,\n          32,\n          41\n        ],\n        \"semantic_type\": \"\",\n        \"description\": \"\"\n      }\n    },\n    {\n      \"column\": \"class\",\n      \"properties\": {\n        \"dtype\": \"number\",\n        \"std\": 0,\n        \"min\": 0,\n        \"max\": 1,\n        \"num_unique_values\": 2,\n        \"samples\": [\n          1,\n          0\n        ],\n        \"semantic_type\": \"\",\n        \"description\": \"\"\n      }\n    },\n    {\n      \"column\": \"scored.class\",\n      \"properties\": {\n        \"dtype\": \"number\",\n        \"std\": 0,\n        \"min\": 0,\n        \"max\": 1,\n        \"num_unique_values\": 2,\n        \"samples\": [\n          1,\n          0\n        ],\n        \"semantic_type\": \"\",\n        \"description\": \"\"\n      }\n    },\n    {\n      \"column\": \"scored.probability\",\n      \"properties\": {\n        \"dtype\": \"number\",\n        \"std\": 0.23123462807425746,\n        \"min\": 0.023228027,\n        \"max\": 0.946334183,\n        \"num_unique_values\": 181,\n        \"samples\": [\n          0.144916177,\n          0.187961385\n        ],\n        \"semantic_type\": \"\",\n        \"description\": \"\"\n      }\n    }\n  ]\n}",
       "type": "dataframe",
       "variable_name": "df"
      },
      "text/html": [
       "\n",
       "  <div id=\"df-4b75cb7a-a1fa-4b19-b825-2000dc21d167\" class=\"colab-df-container\">\n",
       "    <div>\n",
       "<style scoped>\n",
       "    .dataframe tbody tr th:only-of-type {\n",
       "        vertical-align: middle;\n",
       "    }\n",
       "\n",
       "    .dataframe tbody tr th {\n",
       "        vertical-align: top;\n",
       "    }\n",
       "\n",
       "    .dataframe thead th {\n",
       "        text-align: right;\n",
       "    }\n",
       "</style>\n",
       "<table border=\"1\" class=\"dataframe\">\n",
       "  <thead>\n",
       "    <tr style=\"text-align: right;\">\n",
       "      <th></th>\n",
       "      <th>pregnant</th>\n",
       "      <th>glucose</th>\n",
       "      <th>diastolic</th>\n",
       "      <th>skinfold</th>\n",
       "      <th>insulin</th>\n",
       "      <th>bmi</th>\n",
       "      <th>pedigree</th>\n",
       "      <th>age</th>\n",
       "      <th>class</th>\n",
       "      <th>scored.class</th>\n",
       "      <th>scored.probability</th>\n",
       "    </tr>\n",
       "  </thead>\n",
       "  <tbody>\n",
       "    <tr>\n",
       "      <th>0</th>\n",
       "      <td>7</td>\n",
       "      <td>124</td>\n",
       "      <td>70</td>\n",
       "      <td>33</td>\n",
       "      <td>215</td>\n",
       "      <td>25.5</td>\n",
       "      <td>0.161</td>\n",
       "      <td>37</td>\n",
       "      <td>0</td>\n",
       "      <td>0</td>\n",
       "      <td>0.328452</td>\n",
       "    </tr>\n",
       "    <tr>\n",
       "      <th>1</th>\n",
       "      <td>2</td>\n",
       "      <td>122</td>\n",
       "      <td>76</td>\n",
       "      <td>27</td>\n",
       "      <td>200</td>\n",
       "      <td>35.9</td>\n",
       "      <td>0.483</td>\n",
       "      <td>26</td>\n",
       "      <td>0</td>\n",
       "      <td>0</td>\n",
       "      <td>0.273190</td>\n",
       "    </tr>\n",
       "    <tr>\n",
       "      <th>2</th>\n",
       "      <td>3</td>\n",
       "      <td>107</td>\n",
       "      <td>62</td>\n",
       "      <td>13</td>\n",
       "      <td>48</td>\n",
       "      <td>22.9</td>\n",
       "      <td>0.678</td>\n",
       "      <td>23</td>\n",
       "      <td>1</td>\n",
       "      <td>0</td>\n",
       "      <td>0.109660</td>\n",
       "    </tr>\n",
       "    <tr>\n",
       "      <th>3</th>\n",
       "      <td>1</td>\n",
       "      <td>91</td>\n",
       "      <td>64</td>\n",
       "      <td>24</td>\n",
       "      <td>0</td>\n",
       "      <td>29.2</td>\n",
       "      <td>0.192</td>\n",
       "      <td>21</td>\n",
       "      <td>0</td>\n",
       "      <td>0</td>\n",
       "      <td>0.055998</td>\n",
       "    </tr>\n",
       "    <tr>\n",
       "      <th>4</th>\n",
       "      <td>4</td>\n",
       "      <td>83</td>\n",
       "      <td>86</td>\n",
       "      <td>19</td>\n",
       "      <td>0</td>\n",
       "      <td>29.3</td>\n",
       "      <td>0.317</td>\n",
       "      <td>34</td>\n",
       "      <td>0</td>\n",
       "      <td>0</td>\n",
       "      <td>0.100491</td>\n",
       "    </tr>\n",
       "  </tbody>\n",
       "</table>\n",
       "</div>\n",
       "    <div class=\"colab-df-buttons\">\n",
       "\n",
       "  <div class=\"colab-df-container\">\n",
       "    <button class=\"colab-df-convert\" onclick=\"convertToInteractive('df-4b75cb7a-a1fa-4b19-b825-2000dc21d167')\"\n",
       "            title=\"Convert this dataframe to an interactive table.\"\n",
       "            style=\"display:none;\">\n",
       "\n",
       "  <svg xmlns=\"http://www.w3.org/2000/svg\" height=\"24px\" viewBox=\"0 -960 960 960\">\n",
       "    <path d=\"M120-120v-720h720v720H120Zm60-500h600v-160H180v160Zm220 220h160v-160H400v160Zm0 220h160v-160H400v160ZM180-400h160v-160H180v160Zm440 0h160v-160H620v160ZM180-180h160v-160H180v160Zm440 0h160v-160H620v160Z\"/>\n",
       "  </svg>\n",
       "    </button>\n",
       "\n",
       "  <style>\n",
       "    .colab-df-container {\n",
       "      display:flex;\n",
       "      gap: 12px;\n",
       "    }\n",
       "\n",
       "    .colab-df-convert {\n",
       "      background-color: #E8F0FE;\n",
       "      border: none;\n",
       "      border-radius: 50%;\n",
       "      cursor: pointer;\n",
       "      display: none;\n",
       "      fill: #1967D2;\n",
       "      height: 32px;\n",
       "      padding: 0 0 0 0;\n",
       "      width: 32px;\n",
       "    }\n",
       "\n",
       "    .colab-df-convert:hover {\n",
       "      background-color: #E2EBFA;\n",
       "      box-shadow: 0px 1px 2px rgba(60, 64, 67, 0.3), 0px 1px 3px 1px rgba(60, 64, 67, 0.15);\n",
       "      fill: #174EA6;\n",
       "    }\n",
       "\n",
       "    .colab-df-buttons div {\n",
       "      margin-bottom: 4px;\n",
       "    }\n",
       "\n",
       "    [theme=dark] .colab-df-convert {\n",
       "      background-color: #3B4455;\n",
       "      fill: #D2E3FC;\n",
       "    }\n",
       "\n",
       "    [theme=dark] .colab-df-convert:hover {\n",
       "      background-color: #434B5C;\n",
       "      box-shadow: 0px 1px 3px 1px rgba(0, 0, 0, 0.15);\n",
       "      filter: drop-shadow(0px 1px 2px rgba(0, 0, 0, 0.3));\n",
       "      fill: #FFFFFF;\n",
       "    }\n",
       "  </style>\n",
       "\n",
       "    <script>\n",
       "      const buttonEl =\n",
       "        document.querySelector('#df-4b75cb7a-a1fa-4b19-b825-2000dc21d167 button.colab-df-convert');\n",
       "      buttonEl.style.display =\n",
       "        google.colab.kernel.accessAllowed ? 'block' : 'none';\n",
       "\n",
       "      async function convertToInteractive(key) {\n",
       "        const element = document.querySelector('#df-4b75cb7a-a1fa-4b19-b825-2000dc21d167');\n",
       "        const dataTable =\n",
       "          await google.colab.kernel.invokeFunction('convertToInteractive',\n",
       "                                                    [key], {});\n",
       "        if (!dataTable) return;\n",
       "\n",
       "        const docLinkHtml = 'Like what you see? Visit the ' +\n",
       "          '<a target=\"_blank\" href=https://colab.research.google.com/notebooks/data_table.ipynb>data table notebook</a>'\n",
       "          + ' to learn more about interactive tables.';\n",
       "        element.innerHTML = '';\n",
       "        dataTable['output_type'] = 'display_data';\n",
       "        await google.colab.output.renderOutput(dataTable, element);\n",
       "        const docLink = document.createElement('div');\n",
       "        docLink.innerHTML = docLinkHtml;\n",
       "        element.appendChild(docLink);\n",
       "      }\n",
       "    </script>\n",
       "  </div>\n",
       "\n",
       "\n",
       "<div id=\"df-7d972b72-9ede-48cf-983d-ff0056d413a3\">\n",
       "  <button class=\"colab-df-quickchart\" onclick=\"quickchart('df-7d972b72-9ede-48cf-983d-ff0056d413a3')\"\n",
       "            title=\"Suggest charts\"\n",
       "            style=\"display:none;\">\n",
       "\n",
       "<svg xmlns=\"http://www.w3.org/2000/svg\" height=\"24px\"viewBox=\"0 0 24 24\"\n",
       "     width=\"24px\">\n",
       "    <g>\n",
       "        <path d=\"M19 3H5c-1.1 0-2 .9-2 2v14c0 1.1.9 2 2 2h14c1.1 0 2-.9 2-2V5c0-1.1-.9-2-2-2zM9 17H7v-7h2v7zm4 0h-2V7h2v10zm4 0h-2v-4h2v4z\"/>\n",
       "    </g>\n",
       "</svg>\n",
       "  </button>\n",
       "\n",
       "<style>\n",
       "  .colab-df-quickchart {\n",
       "      --bg-color: #E8F0FE;\n",
       "      --fill-color: #1967D2;\n",
       "      --hover-bg-color: #E2EBFA;\n",
       "      --hover-fill-color: #174EA6;\n",
       "      --disabled-fill-color: #AAA;\n",
       "      --disabled-bg-color: #DDD;\n",
       "  }\n",
       "\n",
       "  [theme=dark] .colab-df-quickchart {\n",
       "      --bg-color: #3B4455;\n",
       "      --fill-color: #D2E3FC;\n",
       "      --hover-bg-color: #434B5C;\n",
       "      --hover-fill-color: #FFFFFF;\n",
       "      --disabled-bg-color: #3B4455;\n",
       "      --disabled-fill-color: #666;\n",
       "  }\n",
       "\n",
       "  .colab-df-quickchart {\n",
       "    background-color: var(--bg-color);\n",
       "    border: none;\n",
       "    border-radius: 50%;\n",
       "    cursor: pointer;\n",
       "    display: none;\n",
       "    fill: var(--fill-color);\n",
       "    height: 32px;\n",
       "    padding: 0;\n",
       "    width: 32px;\n",
       "  }\n",
       "\n",
       "  .colab-df-quickchart:hover {\n",
       "    background-color: var(--hover-bg-color);\n",
       "    box-shadow: 0 1px 2px rgba(60, 64, 67, 0.3), 0 1px 3px 1px rgba(60, 64, 67, 0.15);\n",
       "    fill: var(--button-hover-fill-color);\n",
       "  }\n",
       "\n",
       "  .colab-df-quickchart-complete:disabled,\n",
       "  .colab-df-quickchart-complete:disabled:hover {\n",
       "    background-color: var(--disabled-bg-color);\n",
       "    fill: var(--disabled-fill-color);\n",
       "    box-shadow: none;\n",
       "  }\n",
       "\n",
       "  .colab-df-spinner {\n",
       "    border: 2px solid var(--fill-color);\n",
       "    border-color: transparent;\n",
       "    border-bottom-color: var(--fill-color);\n",
       "    animation:\n",
       "      spin 1s steps(1) infinite;\n",
       "  }\n",
       "\n",
       "  @keyframes spin {\n",
       "    0% {\n",
       "      border-color: transparent;\n",
       "      border-bottom-color: var(--fill-color);\n",
       "      border-left-color: var(--fill-color);\n",
       "    }\n",
       "    20% {\n",
       "      border-color: transparent;\n",
       "      border-left-color: var(--fill-color);\n",
       "      border-top-color: var(--fill-color);\n",
       "    }\n",
       "    30% {\n",
       "      border-color: transparent;\n",
       "      border-left-color: var(--fill-color);\n",
       "      border-top-color: var(--fill-color);\n",
       "      border-right-color: var(--fill-color);\n",
       "    }\n",
       "    40% {\n",
       "      border-color: transparent;\n",
       "      border-right-color: var(--fill-color);\n",
       "      border-top-color: var(--fill-color);\n",
       "    }\n",
       "    60% {\n",
       "      border-color: transparent;\n",
       "      border-right-color: var(--fill-color);\n",
       "    }\n",
       "    80% {\n",
       "      border-color: transparent;\n",
       "      border-right-color: var(--fill-color);\n",
       "      border-bottom-color: var(--fill-color);\n",
       "    }\n",
       "    90% {\n",
       "      border-color: transparent;\n",
       "      border-bottom-color: var(--fill-color);\n",
       "    }\n",
       "  }\n",
       "</style>\n",
       "\n",
       "  <script>\n",
       "    async function quickchart(key) {\n",
       "      const quickchartButtonEl =\n",
       "        document.querySelector('#' + key + ' button');\n",
       "      quickchartButtonEl.disabled = true;  // To prevent multiple clicks.\n",
       "      quickchartButtonEl.classList.add('colab-df-spinner');\n",
       "      try {\n",
       "        const charts = await google.colab.kernel.invokeFunction(\n",
       "            'suggestCharts', [key], {});\n",
       "      } catch (error) {\n",
       "        console.error('Error during call to suggestCharts:', error);\n",
       "      }\n",
       "      quickchartButtonEl.classList.remove('colab-df-spinner');\n",
       "      quickchartButtonEl.classList.add('colab-df-quickchart-complete');\n",
       "    }\n",
       "    (() => {\n",
       "      let quickchartButtonEl =\n",
       "        document.querySelector('#df-7d972b72-9ede-48cf-983d-ff0056d413a3 button');\n",
       "      quickchartButtonEl.style.display =\n",
       "        google.colab.kernel.accessAllowed ? 'block' : 'none';\n",
       "    })();\n",
       "  </script>\n",
       "</div>\n",
       "\n",
       "    </div>\n",
       "  </div>\n"
      ],
      "text/plain": [
       "   pregnant  glucose  diastolic  skinfold  insulin   bmi  pedigree  age  \\\n",
       "0         7      124         70        33      215  25.5     0.161   37   \n",
       "1         2      122         76        27      200  35.9     0.483   26   \n",
       "2         3      107         62        13       48  22.9     0.678   23   \n",
       "3         1       91         64        24        0  29.2     0.192   21   \n",
       "4         4       83         86        19        0  29.3     0.317   34   \n",
       "\n",
       "   class  scored.class  scored.probability  \n",
       "0      0             0            0.328452  \n",
       "1      0             0            0.273190  \n",
       "2      1             0            0.109660  \n",
       "3      0             0            0.055998  \n",
       "4      0             0            0.100491  "
      ]
     },
     "execution_count": 3,
     "metadata": {},
     "output_type": "execute_result"
    }
   ],
   "source": [
    "# first 5 rows of the data\n",
    "df.head()\n"
   ]
  },
  {
   "cell_type": "markdown",
   "id": "b8fda0db",
   "metadata": {
    "id": "b8fda0db"
   },
   "source": [
    "## Data Wrangling"
   ]
  },
  {
   "cell_type": "code",
   "execution_count": 4,
   "id": "0cc2d030",
   "metadata": {
    "colab": {
     "base_uri": "https://localhost:8080/",
     "height": 429
    },
    "id": "0cc2d030",
    "outputId": "7d30df4f-22d5-4851-b395-b60351a166ed"
   },
   "outputs": [
    {
     "data": {
      "text/html": [
       "<div>\n",
       "<style scoped>\n",
       "    .dataframe tbody tr th:only-of-type {\n",
       "        vertical-align: middle;\n",
       "    }\n",
       "\n",
       "    .dataframe tbody tr th {\n",
       "        vertical-align: top;\n",
       "    }\n",
       "\n",
       "    .dataframe thead th {\n",
       "        text-align: right;\n",
       "    }\n",
       "</style>\n",
       "<table border=\"1\" class=\"dataframe\">\n",
       "  <thead>\n",
       "    <tr style=\"text-align: right;\">\n",
       "      <th></th>\n",
       "      <th>0</th>\n",
       "    </tr>\n",
       "  </thead>\n",
       "  <tbody>\n",
       "    <tr>\n",
       "      <th>pregnant</th>\n",
       "      <td>0</td>\n",
       "    </tr>\n",
       "    <tr>\n",
       "      <th>glucose</th>\n",
       "      <td>0</td>\n",
       "    </tr>\n",
       "    <tr>\n",
       "      <th>diastolic</th>\n",
       "      <td>0</td>\n",
       "    </tr>\n",
       "    <tr>\n",
       "      <th>skinfold</th>\n",
       "      <td>0</td>\n",
       "    </tr>\n",
       "    <tr>\n",
       "      <th>insulin</th>\n",
       "      <td>0</td>\n",
       "    </tr>\n",
       "    <tr>\n",
       "      <th>bmi</th>\n",
       "      <td>0</td>\n",
       "    </tr>\n",
       "    <tr>\n",
       "      <th>pedigree</th>\n",
       "      <td>0</td>\n",
       "    </tr>\n",
       "    <tr>\n",
       "      <th>age</th>\n",
       "      <td>0</td>\n",
       "    </tr>\n",
       "    <tr>\n",
       "      <th>class</th>\n",
       "      <td>0</td>\n",
       "    </tr>\n",
       "    <tr>\n",
       "      <th>scored.class</th>\n",
       "      <td>0</td>\n",
       "    </tr>\n",
       "    <tr>\n",
       "      <th>scored.probability</th>\n",
       "      <td>0</td>\n",
       "    </tr>\n",
       "  </tbody>\n",
       "</table>\n",
       "</div><br><label><b>dtype:</b> int64</label>"
      ],
      "text/plain": [
       "pregnant              0\n",
       "glucose               0\n",
       "diastolic             0\n",
       "skinfold              0\n",
       "insulin               0\n",
       "bmi                   0\n",
       "pedigree              0\n",
       "age                   0\n",
       "class                 0\n",
       "scored.class          0\n",
       "scored.probability    0\n",
       "dtype: int64"
      ]
     },
     "execution_count": 4,
     "metadata": {},
     "output_type": "execute_result"
    }
   ],
   "source": [
    "# Checking for missing values\n",
    "df.isnull().sum()"
   ]
  },
  {
   "cell_type": "code",
   "execution_count": 5,
   "id": "545df435",
   "metadata": {
    "colab": {
     "base_uri": "https://localhost:8080/"
    },
    "id": "545df435",
    "outputId": "9b352f71-b776-4216-c317-386c17f0ac1c"
   },
   "outputs": [
    {
     "name": "stdout",
     "output_type": "stream",
     "text": [
      "<class 'pandas.core.frame.DataFrame'>\n",
      "RangeIndex: 181 entries, 0 to 180\n",
      "Data columns (total 11 columns):\n",
      " #   Column              Non-Null Count  Dtype  \n",
      "---  ------              --------------  -----  \n",
      " 0   pregnant            181 non-null    int64  \n",
      " 1   glucose             181 non-null    int64  \n",
      " 2   diastolic           181 non-null    int64  \n",
      " 3   skinfold            181 non-null    int64  \n",
      " 4   insulin             181 non-null    int64  \n",
      " 5   bmi                 181 non-null    float64\n",
      " 6   pedigree            181 non-null    float64\n",
      " 7   age                 181 non-null    int64  \n",
      " 8   class               181 non-null    int64  \n",
      " 9   scored.class        181 non-null    int64  \n",
      " 10  scored.probability  181 non-null    float64\n",
      "dtypes: float64(3), int64(8)\n",
      "memory usage: 15.7 KB\n"
     ]
    }
   ],
   "source": [
    "# sanity check\n",
    "df.info()"
   ]
  },
  {
   "cell_type": "code",
   "execution_count": 6,
   "id": "6003f4e8",
   "metadata": {
    "colab": {
     "base_uri": "https://localhost:8080/",
     "height": 300
    },
    "id": "6003f4e8",
    "outputId": "b543acf1-4b24-4d8a-8b12-45d63fa12f3c"
   },
   "outputs": [
    {
     "data": {
      "application/vnd.google.colaboratory.intrinsic+json": {
       "summary": "{\n  \"name\": \"df\",\n  \"rows\": 8,\n  \"fields\": [\n    {\n      \"column\": \"pregnant\",\n      \"properties\": {\n        \"dtype\": \"number\",\n        \"std\": 62.54258183582785,\n        \"min\": 0.0,\n        \"max\": 181.0,\n        \"num_unique_values\": 8,\n        \"samples\": [\n          3.861878453038674,\n          3.0,\n          181.0\n        ],\n        \"semantic_type\": \"\",\n        \"description\": \"\"\n      }\n    },\n    {\n      \"column\": \"glucose\",\n      \"properties\": {\n        \"dtype\": \"number\",\n        \"std\": 56.42859979019863,\n        \"min\": 30.484083943083927,\n        \"max\": 197.0,\n        \"num_unique_values\": 8,\n        \"samples\": [\n          118.30386740331491,\n          112.0,\n          181.0\n        ],\n        \"semantic_type\": \"\",\n        \"description\": \"\"\n      }\n    },\n    {\n      \"column\": \"diastolic\",\n      \"properties\": {\n        \"dtype\": \"number\",\n        \"std\": 50.08983188722975,\n        \"min\": 11.802986793077807,\n        \"max\": 181.0,\n        \"num_unique_values\": 8,\n        \"samples\": [\n          71.70165745856353,\n          70.0,\n          181.0\n        ],\n        \"semantic_type\": \"\",\n        \"description\": \"\"\n      }\n    },\n    {\n      \"column\": \"skinfold\",\n      \"properties\": {\n        \"dtype\": \"number\",\n        \"std\": 59.35526753283637,\n        \"min\": 0.0,\n        \"max\": 181.0,\n        \"num_unique_values\": 7,\n        \"samples\": [\n          181.0,\n          19.80110497237569,\n          32.0\n        ],\n        \"semantic_type\": \"\",\n        \"description\": \"\"\n      }\n    },\n    {\n      \"column\": \"insulin\",\n      \"properties\": {\n        \"dtype\": \"number\",\n        \"std\": 181.32715596522715,\n        \"min\": 0.0,\n        \"max\": 543.0,\n        \"num_unique_values\": 6,\n        \"samples\": [\n          181.0,\n          63.767955801104975,\n          543.0\n        ],\n        \"semantic_type\": \"\",\n        \"description\": \"\"\n      }\n    },\n    {\n      \"column\": \"bmi\",\n      \"properties\": {\n        \"dtype\": \"number\",\n        \"std\": 55.25684069209165,\n        \"min\": 6.659934768703715,\n        \"max\": 181.0,\n        \"num_unique_values\": 8,\n        \"samples\": [\n          31.57790055248619,\n          31.6,\n          181.0\n        ],\n        \"semantic_type\": \"\",\n        \"description\": \"\"\n      }\n    },\n    {\n      \"column\": \"pedigree\",\n      \"properties\": {\n        \"dtype\": \"number\",\n        \"std\": 63.77803466261758,\n        \"min\": 0.085,\n        \"max\": 181.0,\n        \"num_unique_values\": 8,\n        \"samples\": [\n          0.44964088397790053,\n          0.391,\n          181.0\n        ],\n        \"semantic_type\": \"\",\n        \"description\": \"\"\n      }\n    },\n    {\n      \"column\": \"age\",\n      \"properties\": {\n        \"dtype\": \"number\",\n        \"std\": 55.06370111583572,\n        \"min\": 11.183581647456066,\n        \"max\": 181.0,\n        \"num_unique_values\": 8,\n        \"samples\": [\n          33.31491712707182,\n          30.0,\n          181.0\n        ],\n        \"semantic_type\": \"\",\n        \"description\": \"\"\n      }\n    },\n    {\n      \"column\": \"class\",\n      \"properties\": {\n        \"dtype\": \"number\",\n        \"std\": 63.85407296057021,\n        \"min\": 0.0,\n        \"max\": 181.0,\n        \"num_unique_values\": 5,\n        \"samples\": [\n          0.3149171270718232,\n          1.0,\n          0.46577130628731217\n        ],\n        \"semantic_type\": \"\",\n        \"description\": \"\"\n      }\n    },\n    {\n      \"column\": \"scored.class\",\n      \"properties\": {\n        \"dtype\": \"number\",\n        \"std\": 63.91533249523089,\n        \"min\": 0.0,\n        \"max\": 181.0,\n        \"num_unique_values\": 5,\n        \"samples\": [\n          0.17679558011049723,\n          1.0,\n          0.3825538555874206\n        ],\n        \"semantic_type\": \"\",\n        \"description\": \"\"\n      }\n    },\n    {\n      \"column\": \"scored.probability\",\n      \"properties\": {\n        \"dtype\": \"number\",\n        \"std\": 63.877989520558764,\n        \"min\": 0.023228027,\n        \"max\": 181.0,\n        \"num_unique_values\": 8,\n        \"samples\": [\n          0.3037256309226519,\n          0.239993617,\n          181.0\n        ],\n        \"semantic_type\": \"\",\n        \"description\": \"\"\n      }\n    }\n  ]\n}",
       "type": "dataframe"
      },
      "text/html": [
       "\n",
       "  <div id=\"df-22923a91-378c-4401-a7f6-8d1df0277337\" class=\"colab-df-container\">\n",
       "    <div>\n",
       "<style scoped>\n",
       "    .dataframe tbody tr th:only-of-type {\n",
       "        vertical-align: middle;\n",
       "    }\n",
       "\n",
       "    .dataframe tbody tr th {\n",
       "        vertical-align: top;\n",
       "    }\n",
       "\n",
       "    .dataframe thead th {\n",
       "        text-align: right;\n",
       "    }\n",
       "</style>\n",
       "<table border=\"1\" class=\"dataframe\">\n",
       "  <thead>\n",
       "    <tr style=\"text-align: right;\">\n",
       "      <th></th>\n",
       "      <th>pregnant</th>\n",
       "      <th>glucose</th>\n",
       "      <th>diastolic</th>\n",
       "      <th>skinfold</th>\n",
       "      <th>insulin</th>\n",
       "      <th>bmi</th>\n",
       "      <th>pedigree</th>\n",
       "      <th>age</th>\n",
       "      <th>class</th>\n",
       "      <th>scored.class</th>\n",
       "      <th>scored.probability</th>\n",
       "    </tr>\n",
       "  </thead>\n",
       "  <tbody>\n",
       "    <tr>\n",
       "      <th>count</th>\n",
       "      <td>181.000000</td>\n",
       "      <td>181.000000</td>\n",
       "      <td>181.000000</td>\n",
       "      <td>181.000000</td>\n",
       "      <td>181.000000</td>\n",
       "      <td>181.000000</td>\n",
       "      <td>181.000000</td>\n",
       "      <td>181.000000</td>\n",
       "      <td>181.000000</td>\n",
       "      <td>181.000000</td>\n",
       "      <td>181.000000</td>\n",
       "    </tr>\n",
       "    <tr>\n",
       "      <th>mean</th>\n",
       "      <td>3.861878</td>\n",
       "      <td>118.303867</td>\n",
       "      <td>71.701657</td>\n",
       "      <td>19.801105</td>\n",
       "      <td>63.767956</td>\n",
       "      <td>31.577901</td>\n",
       "      <td>0.449641</td>\n",
       "      <td>33.314917</td>\n",
       "      <td>0.314917</td>\n",
       "      <td>0.176796</td>\n",
       "      <td>0.303726</td>\n",
       "    </tr>\n",
       "    <tr>\n",
       "      <th>std</th>\n",
       "      <td>3.236551</td>\n",
       "      <td>30.484084</td>\n",
       "      <td>11.802987</td>\n",
       "      <td>15.692326</td>\n",
       "      <td>88.734756</td>\n",
       "      <td>6.659935</td>\n",
       "      <td>0.284006</td>\n",
       "      <td>11.183582</td>\n",
       "      <td>0.465771</td>\n",
       "      <td>0.382554</td>\n",
       "      <td>0.231235</td>\n",
       "    </tr>\n",
       "    <tr>\n",
       "      <th>min</th>\n",
       "      <td>0.000000</td>\n",
       "      <td>57.000000</td>\n",
       "      <td>38.000000</td>\n",
       "      <td>0.000000</td>\n",
       "      <td>0.000000</td>\n",
       "      <td>19.400000</td>\n",
       "      <td>0.085000</td>\n",
       "      <td>21.000000</td>\n",
       "      <td>0.000000</td>\n",
       "      <td>0.000000</td>\n",
       "      <td>0.023228</td>\n",
       "    </tr>\n",
       "    <tr>\n",
       "      <th>25%</th>\n",
       "      <td>1.000000</td>\n",
       "      <td>99.000000</td>\n",
       "      <td>64.000000</td>\n",
       "      <td>0.000000</td>\n",
       "      <td>0.000000</td>\n",
       "      <td>26.300000</td>\n",
       "      <td>0.257000</td>\n",
       "      <td>24.000000</td>\n",
       "      <td>0.000000</td>\n",
       "      <td>0.000000</td>\n",
       "      <td>0.117024</td>\n",
       "    </tr>\n",
       "    <tr>\n",
       "      <th>50%</th>\n",
       "      <td>3.000000</td>\n",
       "      <td>112.000000</td>\n",
       "      <td>70.000000</td>\n",
       "      <td>22.000000</td>\n",
       "      <td>0.000000</td>\n",
       "      <td>31.600000</td>\n",
       "      <td>0.391000</td>\n",
       "      <td>30.000000</td>\n",
       "      <td>0.000000</td>\n",
       "      <td>0.000000</td>\n",
       "      <td>0.239994</td>\n",
       "    </tr>\n",
       "    <tr>\n",
       "      <th>75%</th>\n",
       "      <td>6.000000</td>\n",
       "      <td>136.000000</td>\n",
       "      <td>78.000000</td>\n",
       "      <td>32.000000</td>\n",
       "      <td>105.000000</td>\n",
       "      <td>36.000000</td>\n",
       "      <td>0.580000</td>\n",
       "      <td>41.000000</td>\n",
       "      <td>1.000000</td>\n",
       "      <td>0.000000</td>\n",
       "      <td>0.430926</td>\n",
       "    </tr>\n",
       "    <tr>\n",
       "      <th>max</th>\n",
       "      <td>15.000000</td>\n",
       "      <td>197.000000</td>\n",
       "      <td>104.000000</td>\n",
       "      <td>54.000000</td>\n",
       "      <td>543.000000</td>\n",
       "      <td>50.000000</td>\n",
       "      <td>2.288000</td>\n",
       "      <td>67.000000</td>\n",
       "      <td>1.000000</td>\n",
       "      <td>1.000000</td>\n",
       "      <td>0.946334</td>\n",
       "    </tr>\n",
       "  </tbody>\n",
       "</table>\n",
       "</div>\n",
       "    <div class=\"colab-df-buttons\">\n",
       "\n",
       "  <div class=\"colab-df-container\">\n",
       "    <button class=\"colab-df-convert\" onclick=\"convertToInteractive('df-22923a91-378c-4401-a7f6-8d1df0277337')\"\n",
       "            title=\"Convert this dataframe to an interactive table.\"\n",
       "            style=\"display:none;\">\n",
       "\n",
       "  <svg xmlns=\"http://www.w3.org/2000/svg\" height=\"24px\" viewBox=\"0 -960 960 960\">\n",
       "    <path d=\"M120-120v-720h720v720H120Zm60-500h600v-160H180v160Zm220 220h160v-160H400v160Zm0 220h160v-160H400v160ZM180-400h160v-160H180v160Zm440 0h160v-160H620v160ZM180-180h160v-160H180v160Zm440 0h160v-160H620v160Z\"/>\n",
       "  </svg>\n",
       "    </button>\n",
       "\n",
       "  <style>\n",
       "    .colab-df-container {\n",
       "      display:flex;\n",
       "      gap: 12px;\n",
       "    }\n",
       "\n",
       "    .colab-df-convert {\n",
       "      background-color: #E8F0FE;\n",
       "      border: none;\n",
       "      border-radius: 50%;\n",
       "      cursor: pointer;\n",
       "      display: none;\n",
       "      fill: #1967D2;\n",
       "      height: 32px;\n",
       "      padding: 0 0 0 0;\n",
       "      width: 32px;\n",
       "    }\n",
       "\n",
       "    .colab-df-convert:hover {\n",
       "      background-color: #E2EBFA;\n",
       "      box-shadow: 0px 1px 2px rgba(60, 64, 67, 0.3), 0px 1px 3px 1px rgba(60, 64, 67, 0.15);\n",
       "      fill: #174EA6;\n",
       "    }\n",
       "\n",
       "    .colab-df-buttons div {\n",
       "      margin-bottom: 4px;\n",
       "    }\n",
       "\n",
       "    [theme=dark] .colab-df-convert {\n",
       "      background-color: #3B4455;\n",
       "      fill: #D2E3FC;\n",
       "    }\n",
       "\n",
       "    [theme=dark] .colab-df-convert:hover {\n",
       "      background-color: #434B5C;\n",
       "      box-shadow: 0px 1px 3px 1px rgba(0, 0, 0, 0.15);\n",
       "      filter: drop-shadow(0px 1px 2px rgba(0, 0, 0, 0.3));\n",
       "      fill: #FFFFFF;\n",
       "    }\n",
       "  </style>\n",
       "\n",
       "    <script>\n",
       "      const buttonEl =\n",
       "        document.querySelector('#df-22923a91-378c-4401-a7f6-8d1df0277337 button.colab-df-convert');\n",
       "      buttonEl.style.display =\n",
       "        google.colab.kernel.accessAllowed ? 'block' : 'none';\n",
       "\n",
       "      async function convertToInteractive(key) {\n",
       "        const element = document.querySelector('#df-22923a91-378c-4401-a7f6-8d1df0277337');\n",
       "        const dataTable =\n",
       "          await google.colab.kernel.invokeFunction('convertToInteractive',\n",
       "                                                    [key], {});\n",
       "        if (!dataTable) return;\n",
       "\n",
       "        const docLinkHtml = 'Like what you see? Visit the ' +\n",
       "          '<a target=\"_blank\" href=https://colab.research.google.com/notebooks/data_table.ipynb>data table notebook</a>'\n",
       "          + ' to learn more about interactive tables.';\n",
       "        element.innerHTML = '';\n",
       "        dataTable['output_type'] = 'display_data';\n",
       "        await google.colab.output.renderOutput(dataTable, element);\n",
       "        const docLink = document.createElement('div');\n",
       "        docLink.innerHTML = docLinkHtml;\n",
       "        element.appendChild(docLink);\n",
       "      }\n",
       "    </script>\n",
       "  </div>\n",
       "\n",
       "\n",
       "<div id=\"df-2d3fd181-334e-41a9-947e-1047c2c7ad4d\">\n",
       "  <button class=\"colab-df-quickchart\" onclick=\"quickchart('df-2d3fd181-334e-41a9-947e-1047c2c7ad4d')\"\n",
       "            title=\"Suggest charts\"\n",
       "            style=\"display:none;\">\n",
       "\n",
       "<svg xmlns=\"http://www.w3.org/2000/svg\" height=\"24px\"viewBox=\"0 0 24 24\"\n",
       "     width=\"24px\">\n",
       "    <g>\n",
       "        <path d=\"M19 3H5c-1.1 0-2 .9-2 2v14c0 1.1.9 2 2 2h14c1.1 0 2-.9 2-2V5c0-1.1-.9-2-2-2zM9 17H7v-7h2v7zm4 0h-2V7h2v10zm4 0h-2v-4h2v4z\"/>\n",
       "    </g>\n",
       "</svg>\n",
       "  </button>\n",
       "\n",
       "<style>\n",
       "  .colab-df-quickchart {\n",
       "      --bg-color: #E8F0FE;\n",
       "      --fill-color: #1967D2;\n",
       "      --hover-bg-color: #E2EBFA;\n",
       "      --hover-fill-color: #174EA6;\n",
       "      --disabled-fill-color: #AAA;\n",
       "      --disabled-bg-color: #DDD;\n",
       "  }\n",
       "\n",
       "  [theme=dark] .colab-df-quickchart {\n",
       "      --bg-color: #3B4455;\n",
       "      --fill-color: #D2E3FC;\n",
       "      --hover-bg-color: #434B5C;\n",
       "      --hover-fill-color: #FFFFFF;\n",
       "      --disabled-bg-color: #3B4455;\n",
       "      --disabled-fill-color: #666;\n",
       "  }\n",
       "\n",
       "  .colab-df-quickchart {\n",
       "    background-color: var(--bg-color);\n",
       "    border: none;\n",
       "    border-radius: 50%;\n",
       "    cursor: pointer;\n",
       "    display: none;\n",
       "    fill: var(--fill-color);\n",
       "    height: 32px;\n",
       "    padding: 0;\n",
       "    width: 32px;\n",
       "  }\n",
       "\n",
       "  .colab-df-quickchart:hover {\n",
       "    background-color: var(--hover-bg-color);\n",
       "    box-shadow: 0 1px 2px rgba(60, 64, 67, 0.3), 0 1px 3px 1px rgba(60, 64, 67, 0.15);\n",
       "    fill: var(--button-hover-fill-color);\n",
       "  }\n",
       "\n",
       "  .colab-df-quickchart-complete:disabled,\n",
       "  .colab-df-quickchart-complete:disabled:hover {\n",
       "    background-color: var(--disabled-bg-color);\n",
       "    fill: var(--disabled-fill-color);\n",
       "    box-shadow: none;\n",
       "  }\n",
       "\n",
       "  .colab-df-spinner {\n",
       "    border: 2px solid var(--fill-color);\n",
       "    border-color: transparent;\n",
       "    border-bottom-color: var(--fill-color);\n",
       "    animation:\n",
       "      spin 1s steps(1) infinite;\n",
       "  }\n",
       "\n",
       "  @keyframes spin {\n",
       "    0% {\n",
       "      border-color: transparent;\n",
       "      border-bottom-color: var(--fill-color);\n",
       "      border-left-color: var(--fill-color);\n",
       "    }\n",
       "    20% {\n",
       "      border-color: transparent;\n",
       "      border-left-color: var(--fill-color);\n",
       "      border-top-color: var(--fill-color);\n",
       "    }\n",
       "    30% {\n",
       "      border-color: transparent;\n",
       "      border-left-color: var(--fill-color);\n",
       "      border-top-color: var(--fill-color);\n",
       "      border-right-color: var(--fill-color);\n",
       "    }\n",
       "    40% {\n",
       "      border-color: transparent;\n",
       "      border-right-color: var(--fill-color);\n",
       "      border-top-color: var(--fill-color);\n",
       "    }\n",
       "    60% {\n",
       "      border-color: transparent;\n",
       "      border-right-color: var(--fill-color);\n",
       "    }\n",
       "    80% {\n",
       "      border-color: transparent;\n",
       "      border-right-color: var(--fill-color);\n",
       "      border-bottom-color: var(--fill-color);\n",
       "    }\n",
       "    90% {\n",
       "      border-color: transparent;\n",
       "      border-bottom-color: var(--fill-color);\n",
       "    }\n",
       "  }\n",
       "</style>\n",
       "\n",
       "  <script>\n",
       "    async function quickchart(key) {\n",
       "      const quickchartButtonEl =\n",
       "        document.querySelector('#' + key + ' button');\n",
       "      quickchartButtonEl.disabled = true;  // To prevent multiple clicks.\n",
       "      quickchartButtonEl.classList.add('colab-df-spinner');\n",
       "      try {\n",
       "        const charts = await google.colab.kernel.invokeFunction(\n",
       "            'suggestCharts', [key], {});\n",
       "      } catch (error) {\n",
       "        console.error('Error during call to suggestCharts:', error);\n",
       "      }\n",
       "      quickchartButtonEl.classList.remove('colab-df-spinner');\n",
       "      quickchartButtonEl.classList.add('colab-df-quickchart-complete');\n",
       "    }\n",
       "    (() => {\n",
       "      let quickchartButtonEl =\n",
       "        document.querySelector('#df-2d3fd181-334e-41a9-947e-1047c2c7ad4d button');\n",
       "      quickchartButtonEl.style.display =\n",
       "        google.colab.kernel.accessAllowed ? 'block' : 'none';\n",
       "    })();\n",
       "  </script>\n",
       "</div>\n",
       "\n",
       "    </div>\n",
       "  </div>\n"
      ],
      "text/plain": [
       "         pregnant     glucose   diastolic    skinfold     insulin         bmi  \\\n",
       "count  181.000000  181.000000  181.000000  181.000000  181.000000  181.000000   \n",
       "mean     3.861878  118.303867   71.701657   19.801105   63.767956   31.577901   \n",
       "std      3.236551   30.484084   11.802987   15.692326   88.734756    6.659935   \n",
       "min      0.000000   57.000000   38.000000    0.000000    0.000000   19.400000   \n",
       "25%      1.000000   99.000000   64.000000    0.000000    0.000000   26.300000   \n",
       "50%      3.000000  112.000000   70.000000   22.000000    0.000000   31.600000   \n",
       "75%      6.000000  136.000000   78.000000   32.000000  105.000000   36.000000   \n",
       "max     15.000000  197.000000  104.000000   54.000000  543.000000   50.000000   \n",
       "\n",
       "         pedigree         age       class  scored.class  scored.probability  \n",
       "count  181.000000  181.000000  181.000000    181.000000          181.000000  \n",
       "mean     0.449641   33.314917    0.314917      0.176796            0.303726  \n",
       "std      0.284006   11.183582    0.465771      0.382554            0.231235  \n",
       "min      0.085000   21.000000    0.000000      0.000000            0.023228  \n",
       "25%      0.257000   24.000000    0.000000      0.000000            0.117024  \n",
       "50%      0.391000   30.000000    0.000000      0.000000            0.239994  \n",
       "75%      0.580000   41.000000    1.000000      0.000000            0.430926  \n",
       "max      2.288000   67.000000    1.000000      1.000000            0.946334  "
      ]
     },
     "execution_count": 6,
     "metadata": {},
     "output_type": "execute_result"
    }
   ],
   "source": [
    "# summary statistics\n",
    "df.describe()"
   ]
  },
  {
   "cell_type": "markdown",
   "id": "93f72dd2",
   "metadata": {
    "id": "93f72dd2"
   },
   "source": [
    "## Calculation of Metrics without pre-built methods"
   ]
  },
  {
   "cell_type": "markdown",
   "id": "53a67586",
   "metadata": {
    "id": "53a67586"
   },
   "source": [
    "3. Generate the confusion matrix using crosstab()"
   ]
  },
  {
   "cell_type": "code",
   "execution_count": 7,
   "id": "184f17fc",
   "metadata": {
    "colab": {
     "base_uri": "https://localhost:8080/",
     "height": 303
    },
    "id": "184f17fc",
    "outputId": "287ee042-26d5-49c7-9d5e-0ddca10dbfdd"
   },
   "outputs": [
    {
     "name": "stdout",
     "output_type": "stream",
     "text": [
      "Predicted    0   1\n",
      "Actual            \n",
      "0          119   5\n",
      "1           30  27\n"
     ]
    },
    {
     "data": {
      "image/png": "[encoded data removed]",
      "text/plain": [
       "<Figure size 200x200 with 1 Axes>"
      ]
     },
     "metadata": {},
     "output_type": "display_data"
    }
   ],
   "source": [
    "#Confusion Matrix using cross tabulation\n",
    "confusion_matrix = pd.crosstab(df['class'], df['scored.class'], rownames=['Actual'], colnames=['Predicted'])\n",
    "print(confusion_matrix)\n",
    "\n",
    "#Plotting the confusion matrix\n",
    "plt.figure(figsize=(2,2))\n",
    "sns.heatmap(confusion_matrix, annot=True, cmap='coolwarm', fmt='d', cbar=False)\n",
    "plt.show()"
   ]
  },
  {
   "cell_type": "markdown",
   "id": "a92c181c",
   "metadata": {
    "id": "a92c181c"
   },
   "source": [
    "- The rows represent the actual classifications.\n",
    "- The columns represent the predicted classifications."
   ]
  },
  {
   "cell_type": "code",
   "execution_count": 8,
   "id": "c7a11d6c",
   "metadata": {
    "colab": {
     "base_uri": "https://localhost:8080/"
    },
    "id": "c7a11d6c",
    "outputId": "e133be84-559f-4407-ebd5-9912835e6f44"
   },
   "outputs": [
    {
     "name": "stdout",
     "output_type": "stream",
     "text": [
      "value counts for class column\n",
      "class\n",
      "0    124\n",
      "1     57\n",
      "Name: count, dtype: int64\n",
      "57 1's in dataset\n",
      "57 actual 1's in confusion matrix\n",
      "124 0's in dataset\n",
      "124 actual 0's in confusion matrix\n"
     ]
    }
   ],
   "source": [
    "# Check value counts for 'class' (actual labels)\n",
    "print(\"value counts for class column\")\n",
    "print(df['class'].value_counts())\n",
    "\n",
    "# sum of actual 1's from confusion matrix\n",
    "actual_1 = confusion_matrix.iloc[1,0] + confusion_matrix.iloc[1,1]\n",
    "#sum of actual 0's from confusion matrix\n",
    "actual_0 = confusion_matrix.iloc[0,0] + confusion_matrix.iloc[0,1]\n",
    "\n",
    "\n",
    "#sum of 1's in dataset\n",
    "total_1 = df['class'].sum()\n",
    "\n",
    "print(f\"{total_1} 1's in dataset\")\n",
    "print(f\"{actual_1} actual 1's in confusion matrix\")\n",
    "\n",
    "\n",
    "# sum of 0's in dataset\n",
    "total_0 = len(df) - total_1\n",
    "\n",
    "print(f\"{total_0} 0's in dataset\")\n",
    "print(f\"{actual_0} actual 0's in confusion matrix\")\n"
   ]
  },
  {
   "cell_type": "markdown",
   "id": "7ca9d996",
   "metadata": {
    "id": "7ca9d996"
   },
   "source": [
    "4. Extracting the individual values as:\n",
    "\n",
    "- True Negatives (TN): 119 (Actual = 0, Predicted = 0)\n",
    "- False Positives (FP): 5 (Actual = 0, Predicted = 1)\n",
    "- False Negatives (FN): 30 (Actual = 1, Predicted = 0)\n",
    "- True Positives (TP): 27 (Actual = 1, Predicted = 1)"
   ]
  },
  {
   "cell_type": "code",
   "execution_count": 9,
   "id": "51be2ae6",
   "metadata": {
    "colab": {
     "base_uri": "https://localhost:8080/"
    },
    "id": "51be2ae6",
    "outputId": "f87b868d-dfcf-4844-cc58-16b757a1e069"
   },
   "outputs": [
    {
     "name": "stdout",
     "output_type": "stream",
     "text": [
      "True Positive (TP): 27\n",
      "False Positive (FP): 5\n",
      "True Negative (TN): 119\n",
      "False Negative (FN): 30\n"
     ]
    }
   ],
   "source": [
    "# Extract values and save from the confusion matrix\n",
    "TP = confusion_matrix.loc[1, 1]\n",
    "FP = confusion_matrix.loc[0, 1]\n",
    "TN = confusion_matrix.loc[0, 0]\n",
    "FN = confusion_matrix.loc[1, 0]\n",
    "\n",
    "# Print extracted values to verify\n",
    "print(f'True Positive (TP): {TP}')\n",
    "print('False Positive (FP):',FP)\n",
    "print(f'True Negative (TN): {TN}')\n",
    "print(f'False Negative (FN): {FN}')"
   ]
  },
  {
   "cell_type": "markdown",
   "id": "0bdfe03c",
   "metadata": {
    "id": "0bdfe03c"
   },
   "source": [
    "5. Calculate the accuracy for binary classification data without using pre-built functions."
   ]
  },
  {
   "cell_type": "code",
   "execution_count": 10,
   "id": "14d8492d",
   "metadata": {
    "colab": {
     "base_uri": "https://localhost:8080/"
    },
    "id": "14d8492d",
    "outputId": "4f2e6f70-c426-4816-f992-a490abad6dfb"
   },
   "outputs": [
    {
     "name": "stdout",
     "output_type": "stream",
     "text": [
      "Accuracy: 0.81\n"
     ]
    }
   ],
   "source": [
    "import numpy as np\n",
    "\n",
    "\n",
    "# Function to calculate accuracy\n",
    "def calculate_accuracy(actual, predicted):\n",
    "    \"\"\"\n",
    "    Calculate the accuracy for binary classification data.\n",
    "\n",
    "    actual: A list of actual classifications which is 'Class' here.\n",
    "    predicted: A list of predicted classifications which is 'Scored.class' here.\n",
    "    return: Accuracy metric (float).\n",
    "    \"\"\"\n",
    "    actual = np.array(actual)\n",
    "    predicted = np.array(predicted)\n",
    "\n",
    "    TP = np.sum((actual == 1) & (predicted == 1))\n",
    "    TN = np.sum((actual == 0) & (predicted == 0))\n",
    "    total = len(actual)\n",
    "    accuracy = (TP + TN) / total\n",
    "    return accuracy\n",
    "\n",
    "# Calculate accuracy using the function\n",
    "accuracy = calculate_accuracy(df['class'], df['scored.class'])\n",
    "print(f\"Accuracy: {accuracy:.2f}\")\n",
    "\n",
    "\n",
    "\n"
   ]
  },
  {
   "cell_type": "code",
   "execution_count": 11,
   "id": "9000be8c",
   "metadata": {
    "colab": {
     "base_uri": "https://localhost:8080/"
    },
    "id": "9000be8c",
    "outputId": "6b63dbcf-9997-448f-fcc1-ce8a8643c4e2"
   },
   "outputs": [
    {
     "name": "stdout",
     "output_type": "stream",
     "text": [
      "Precision: 0.84\n"
     ]
    }
   ],
   "source": [
    "def calculate_precision(actual, predicted):\n",
    "    \"\"\"\n",
    "    Calculate precision for binary classification.\n",
    "\n",
    "    Parameters:\n",
    "    actual : The actual classification labels (0 or 1).\n",
    "    predicted : The predicted classification labels (0 or 1).\n",
    "\n",
    "    Returns:\n",
    "    float: The precision score (between 0 and 1).\n",
    "    \"\"\"\n",
    "    actual = np.array(actual)\n",
    "    predicted = np.array(predicted)\n",
    "    TP = np.sum((actual == 1) & (predicted == 1))\n",
    "    FP = np.sum((actual == 0) & (predicted == 1))\n",
    "    return TP / (TP + FP) if (TP + FP) > 0 else 0\n",
    "\n",
    "#calling the function and printing precision\n",
    "print(f\"Precision: {calculate_precision(df['class'], df['scored.class']):.2f}\")\n"
   ]
  },
  {
   "cell_type": "code",
   "execution_count": 12,
   "id": "ab02c1b4",
   "metadata": {
    "colab": {
     "base_uri": "https://localhost:8080/"
    },
    "id": "ab02c1b4",
    "outputId": "ed45ef27-74bf-4f81-f578-1a30fc761d1b"
   },
   "outputs": [
    {
     "name": "stdout",
     "output_type": "stream",
     "text": [
      "Sensitivity: 0.47\n"
     ]
    }
   ],
   "source": [
    "def calculate_sensitivity(actual, predicted):\n",
    "    \"\"\"\n",
    "    Calculate sensitivity (recall) for binary classification.\n",
    "\n",
    "    Parameters:\n",
    "    actual : The actual classification labels (0 or 1).\n",
    "    predicted : The predicted classification labels (0 or 1).\n",
    "\n",
    "    Returns:\n",
    "    float: The sensitivity score (between 0 and 1).\n",
    "    \"\"\"\n",
    "    actual = np.array(actual)\n",
    "    predicted = np.array(predicted)\n",
    "    TP = np.sum((actual == 1) & (predicted == 1))\n",
    "    FN = np.sum((actual == 1) & (predicted == 0))\n",
    "    return TP / (TP + FN) if (TP + FN) > 0 else 0\n",
    "\n",
    "# Calling the function and printing the sensitivity\n",
    "print(f\"Sensitivity: {calculate_sensitivity(df['class'], df['scored.class']):.2f}\")"
   ]
  },
  {
   "cell_type": "code",
   "execution_count": 13,
   "id": "5d4fd3bd",
   "metadata": {
    "colab": {
     "base_uri": "https://localhost:8080/"
    },
    "id": "5d4fd3bd",
    "outputId": "cc342fda-b5e8-4713-f2cf-c220563e4aa7"
   },
   "outputs": [
    {
     "name": "stdout",
     "output_type": "stream",
     "text": [
      "Specificity: 0.80\n"
     ]
    }
   ],
   "source": [
    "def calculate_specificity(actual, predicted):\n",
    "    \"\"\"\n",
    "    Calculate specificity for binary classification.\n",
    "\n",
    "    Parameters:\n",
    "    actual : The actual classification labels (0 or 1).\n",
    "    predicted : The predicted classification labels (0 or 1).\n",
    "\n",
    "    Returns:\n",
    "    float: The specificity score (between 0 and 1).\n",
    "    \"\"\"\n",
    "    actual = np.array(actual)\n",
    "    predicted = np.array(predicted)\n",
    "\n",
    "    TN = np.sum((actual == 0) & (predicted == 0))\n",
    "    FP = np.sum((actual == 1) & (predicted == 0))\n",
    "    return TN / (TN + FP) if (TN + FP) > 0 else 0\n",
    "\n",
    "# Calling the function and printing the specificity\n",
    "print(f\"Specificity: {calculate_specificity(df['class'], df['scored.class']):.2f}\")"
   ]
  },
  {
   "cell_type": "markdown",
   "id": "73cffef5",
   "metadata": {
    "id": "73cffef5"
   },
   "source": [
    "9. Calculate F1 score without using pre-built function"
   ]
  },
  {
   "cell_type": "code",
   "execution_count": 14,
   "id": "2a8f6c4c",
   "metadata": {
    "colab": {
     "base_uri": "https://localhost:8080/"
    },
    "id": "2a8f6c4c",
    "outputId": "2e3a3793-b9c1-4348-fa76-967a3bff9455"
   },
   "outputs": [
    {
     "name": "stdout",
     "output_type": "stream",
     "text": [
      "F1 Score: 0.61\n"
     ]
    }
   ],
   "source": [
    "def calculate_f1_score(actual, predicted):\n",
    "    \"\"\"\n",
    "    Function to calculate the F1 Score of binary classification predictions.\n",
    "\n",
    "    Parameters:\n",
    "    actual : The actual classifications.\n",
    "    predicted : The predicted classifications.\n",
    "\n",
    "    Returns:\n",
    "    float: The F1 Score of the predictions.\n",
    "    \"\"\"\n",
    "\n",
    "    # Initialize counters\n",
    "    TP = 0\n",
    "    FP = 0\n",
    "    FN = 0\n",
    "\n",
    "    total_samples = len(actual)\n",
    "\n",
    "    # Loop through actual and predicted values\n",
    "    for i in range(total_samples):\n",
    "        if actual[i] == 1:\n",
    "            if predicted[i] == 1:\n",
    "                TP += 1  # Correctly predicted positive\n",
    "            else:\n",
    "                FN += 1  # Incorrectly predicted negative\n",
    "        else:\n",
    "            if predicted[i] == 1:\n",
    "                FP += 1  # Incorrectly predicted positive\n",
    "\n",
    "    # Calculate precision\n",
    "    precision = TP / (TP + FP) if (TP + FP) > 0 else 0.0\n",
    "\n",
    "    # Calculate recall (sensitivity)\n",
    "    recall = TP / (TP + FN) if (TP + FN) > 0 else 0.0\n",
    "\n",
    "    # Calculate F1 Score\n",
    "    if precision + recall > 0:\n",
    "        f1_score = 2 * (precision * recall) / (precision + recall)\n",
    "    else:\n",
    "        f1_score = 0.0  # case where precision and recall are both zero\n",
    "\n",
    "    return f1_score\n",
    "\n",
    "# Calculate F1 Score using the DataFrame columns\n",
    "f1_score = calculate_f1_score(df['class'], df['scored.class'])\n",
    "print(f'F1 Score: {f1_score:.2f}')\n"
   ]
  },
  {
   "cell_type": "markdown",
   "id": "da551bdb",
   "metadata": {
    "id": "da551bdb"
   },
   "source": [
    "10. Plot a ROC curve and also calculate AUC without using pre-built funtions."
   ]
  },
  {
   "cell_type": "code",
   "execution_count": 15,
   "id": "c11e42ba",
   "metadata": {
    "colab": {
     "base_uri": "https://localhost:8080/",
     "height": 581
    },
    "id": "c11e42ba",
    "outputId": "7a2da3a5-0b66-4f8f-8f18-9044156cdf0f"
   },
   "outputs": [
    {
     "data": {
      "image/png": "[encoded data removed]",
      "text/plain": [
       "<Figure size 600x600 with 1 Axes>"
      ]
     },
     "metadata": {},
     "output_type": "display_data"
    },
    {
     "name": "stdout",
     "output_type": "stream",
     "text": [
      "Manually calculated AUC: 0.85\n"
     ]
    }
   ],
   "source": [
    "import numpy as np\n",
    "import matplotlib.pyplot as plt\n",
    "\n",
    "def plot_roc_and_calculate_auc(true_labels, predicted_probabilities):\n",
    "    \"\"\"\n",
    "    Plot ROC curve and calculate AUC manually.\n",
    "\n",
    "    Parameters:\n",
    "    true_labels: A numpy array of true binary class labels (0 or 1)\n",
    "    predicted_probabilities: A numpy array of predicted probabilities for the positive class (1)\n",
    "\n",
    "    Returns:\n",
    "    auc: The manually calculated AUC value\n",
    "    \"\"\"\n",
    "    # Step 1: Sort the predicted probabilities and corresponding true labels\n",
    "    sorted_indices = np.argsort(predicted_probabilities)[::-1]\n",
    "    sorted_true_labels = true_labels[sorted_indices]\n",
    "    sorted_predicted_probabilities = predicted_probabilities[sorted_indices]\n",
    "\n",
    "    # Step 2: Initialize TPR (True Positive Rate) and FPR (False Positive Rate)\n",
    "    TPR = []\n",
    "    FPR = []\n",
    "\n",
    "    TP = 0\n",
    "    FP = 0\n",
    "    TN = np.sum(true_labels == 0)  # Total count of negative samples\n",
    "    FN = np.sum(true_labels == 1)  # Total count of positive samples\n",
    "\n",
    "    # Step 3: Compute TPR and FPR for each threshold (unique predicted probability)\n",
    "    thresholds = sorted_predicted_probabilities\n",
    "    for i in range(len(sorted_true_labels)):\n",
    "        if sorted_true_labels[i] == 1:\n",
    "            TP += 1\n",
    "            FN -= 1\n",
    "        else:\n",
    "            FP += 1\n",
    "            TN -= 1\n",
    "        TPR.append(TP / (TP + FN))  # True Positive Rate (Sensitivity/Recall)\n",
    "        FPR.append(FP / (FP + TN))  # False Positive Rate (1 - Specificity)\n",
    "\n",
    "    # Convert to numpy arrays for further processing\n",
    "    TPR = np.array(TPR)\n",
    "    FPR = np.array(FPR)\n",
    "\n",
    "    # Step 4: Plot ROC curve\n",
    "    plt.figure(figsize=(6, 6))\n",
    "    plt.plot(FPR, TPR, color='blue', label='ROC Curve')\n",
    "    plt.plot([0, 1], [0, 1], color='red', linestyle='--', label='Random Classifier')  # Diagonal line\n",
    "    plt.xlabel('False Positive Rate (FPR)')\n",
    "    plt.ylabel('True Positive Rate (TPR)')\n",
    "    plt.title('ROC Curve')\n",
    "    plt.legend()\n",
    "    plt.grid(True)\n",
    "    plt.show()\n",
    "\n",
    "    # Step 5: Manually calculate AUC using the trapezoidal rule\n",
    "    auc = 0.0\n",
    "    for i in range(1, len(TPR)):\n",
    "        auc += (FPR[i] - FPR[i-1]) * (TPR[i] + TPR[i-1]) / 2\n",
    "\n",
    "    return auc\n",
    "\n",
    "# assign required data columns for actual values and predicted probabilities\n",
    "true_labels = df['class'].values\n",
    "predicted_probabilities = df['scored.probability'].values\n",
    "\n",
    "# Call the function to plot ROC and calculate AUC\n",
    "auc_value = plot_roc_and_calculate_auc(true_labels, predicted_probabilities)\n",
    "print(f\"Manually calculated AUC: {auc_value:.2f}\")\n"
   ]
  },
  {
   "cell_type": "markdown",
   "id": "0b29a28e",
   "metadata": {
    "id": "0b29a28e"
   },
   "source": [
    "11. Applying the Python functions to the relevant columns of the provided data set to produce the classification metrics specified in steps 5 through 9 of this assignment"
   ]
  },
  {
   "cell_type": "code",
   "execution_count": 16,
   "id": "2dcc4fd0",
   "metadata": {
    "colab": {
     "base_uri": "https://localhost:8080/"
    },
    "id": "2dcc4fd0",
    "outputId": "7be45af7-dd35-4a3c-81cc-02ac302ac536"
   },
   "outputs": [
    {
     "name": "stdout",
     "output_type": "stream",
     "text": [
      "Calculated Metrics:\n",
      "Accuracy: 0.81\n",
      "Sensitivity: 0.47\n",
      "Precision: 0.84\n",
      "Specificity: 0.80\n",
      "F1 Score: 0.61\n"
     ]
    }
   ],
   "source": [
    "# call the functions\n",
    "acc = calculate_accuracy(df['class'], df['scored.class'])\n",
    "sens = calculate_sensitivity(df['class'], df['scored.class'])\n",
    "prec = calculate_precision(df['class'], df['scored.class'])\n",
    "spec = calculate_specificity(df['class'], df['scored.class'])\n",
    "f1 = calculate_f1_score(df['class'], df['scored.class'])\n",
    "\n",
    "# Print the results\n",
    "print(\"Calculated Metrics:\")\n",
    "print(f\"Accuracy: {acc:.2f}\")\n",
    "print(f\"Sensitivity: {sens:.2f}\")\n",
    "print(f\"Precision: {prec:.2f}\")\n",
    "print(f\"Specificity: {spec:.2f}\")\n",
    "print(f\"F1 Score: {f1:.2f}\")"
   ]
  },
  {
   "cell_type": "markdown",
   "id": "1e2c939e",
   "metadata": {
    "id": "1e2c939e"
   },
   "source": [
    "## Calculation of Metrics using pre-built methods"
   ]
  },
  {
   "cell_type": "markdown",
   "id": "39441017",
   "metadata": {
    "id": "39441017"
   },
   "source": [
    "12. Comparing the output of functions against the output of the pre-built functions available within the scikit-learn library."
   ]
  },
  {
   "cell_type": "code",
   "execution_count": 17,
   "id": "96ee24dd",
   "metadata": {
    "colab": {
     "base_uri": "https://localhost:8080/",
     "height": 308
    },
    "id": "96ee24dd",
    "outputId": "24000a9e-ae7b-4a01-e3ce-1affa0c7453c"
   },
   "outputs": [
    {
     "name": "stdout",
     "output_type": "stream",
     "text": [
      "Confusion Matrix:\n",
      "[[119   5]\n",
      " [ 30  27]]\n"
     ]
    },
    {
     "data": {
      "image/png": "[encoded data removed]",
      "text/plain": [
       "<Figure size 200x200 with 1 Axes>"
      ]
     },
     "metadata": {},
     "output_type": "display_data"
    }
   ],
   "source": [
    "# Import the confusion_matrix function from sklearn\n",
    "from sklearn.metrics import confusion_matrix\n",
    "\n",
    "# Calculate the confusion matrix\n",
    "sk_ck = confusion_matrix(df['class'], df['scored.class'], labels=[0, 1])\n",
    "print(\"Confusion Matrix:\")\n",
    "print(sk_ck)\n",
    "\n",
    "#Plotting the confusion matrix\n",
    "plt.figure(figsize=(2,2))\n",
    "sns.heatmap(sk_ck, annot=True, cmap='coolwarm', fmt='d', cbar=False)\n",
    "plt.title('Confusion Matrix')\n",
    "plt.xlabel('Predicted')\n",
    "plt.ylabel('Actual')\n",
    "plt.show()"
   ]
  },
  {
   "cell_type": "markdown",
   "id": "17e1ab28",
   "metadata": {
    "id": "17e1ab28"
   },
   "source": [
    "- Both confusion matrices displayed the same information; however, the crosstab returned as a pandas dataframe while the sklearn confusion matrix returned values in a nested list."
   ]
  },
  {
   "cell_type": "code",
   "execution_count": 18,
   "id": "1e683831",
   "metadata": {
    "colab": {
     "base_uri": "https://localhost:8080/"
    },
    "id": "1e683831",
    "outputId": "e0795cc3-a20c-4adc-c8c1-c73c7ac3fd01"
   },
   "outputs": [
    {
     "name": "stdout",
     "output_type": "stream",
     "text": [
      "Accuracy: 0.81\n",
      "Recall: 0.47\n",
      "Precision: 0.84\n",
      "F1 Score: 0.61\n",
      "Classification Report:\n",
      "              precision    recall  f1-score   support\n",
      "\n",
      "           0       0.80      0.96      0.87       124\n",
      "           1       0.84      0.47      0.61        57\n",
      "\n",
      "    accuracy                           0.81       181\n",
      "   macro avg       0.82      0.72      0.74       181\n",
      "weighted avg       0.81      0.81      0.79       181\n",
      "\n"
     ]
    }
   ],
   "source": [
    "# import required libraries\n",
    "from sklearn import metrics\n",
    "\n",
    "# calculate accuracy\n",
    "accuracy = metrics.accuracy_score(df['class'], df['scored.class'])\n",
    "\n",
    "# calculate precision\n",
    "precision = metrics.precision_score(df['class'], df['scored.class'])\n",
    "\n",
    "# calculate recall\n",
    "recall = metrics.recall_score(df['class'], df['scored.class'])\n",
    "\n",
    "# calculate F1 score\n",
    "f1_score = metrics.f1_score(df['class'], df['scored.class'])\n",
    "\n",
    "# print all the metrics\n",
    "print(f\"Accuracy: {accuracy:.2f}\")\n",
    "print(f\"Recall: {recall:.2f}\")\n",
    "print(f\"Precision: {precision:.2f}\")\n",
    "print(f\"F1 Score: {f1_score:.2f}\")\n",
    "\n",
    "# show classification report\n",
    "classification_report = metrics.classification_report(df['class'], df['scored.class'])\n",
    "\n",
    "print(\"Classification Report:\")\n",
    "print(classification_report)\n",
    "\n",
    "\n",
    "\n"
   ]
  },
  {
   "cell_type": "markdown",
   "id": "957ff392",
   "metadata": {
    "id": "957ff392"
   },
   "source": [
    "- Same outcomes were obtained using both  calculation methods. For multi-class datasets, the sklearn classification approach allows us to examine greater detail statistics for each class and other metrics like macro avg and weighted avg, which can be bit complex to calculate manually."
   ]
  },
  {
   "cell_type": "markdown",
   "id": "27ecaeb9",
   "metadata": {
    "id": "27ecaeb9"
   },
   "source": [
    "13. Generate a ROC plot and Calculating AUC using sklearn.metrics."
   ]
  },
  {
   "cell_type": "code",
   "execution_count": 19,
   "id": "93c4c2a7",
   "metadata": {
    "colab": {
     "base_uri": "https://localhost:8080/",
     "height": 489
    },
    "id": "93c4c2a7",
    "outputId": "c080fa91-0b97-4d95-c1fd-2dba686e1796"
   },
   "outputs": [
    {
     "data": {
      "image/png": "[encoded data removed]",
      "text/plain": [
       "<Figure size 640x480 with 1 Axes>"
      ]
     },
     "metadata": {},
     "output_type": "display_data"
    },
    {
     "name": "stdout",
     "output_type": "stream",
     "text": [
      "Scikit-learn calculated AUC: 0.85\n"
     ]
    }
   ],
   "source": [
    "# Importing necessary libraries and modules\n",
    "from sklearn.metrics import RocCurveDisplay, roc_curve, auc\n",
    "# Calculating ROC curve using scikit-learn\n",
    "fpr, tpr, _ = roc_curve(df['class'], df['scored.probability'])\n",
    "\n",
    "# Calculating AUC using scikit-learn\n",
    "roc_auc = auc(fpr, tpr)\n",
    "\n",
    "# Plotting ROC curve using RocCurveDisplay\n",
    "roc_display = RocCurveDisplay(fpr=fpr, tpr=tpr, roc_auc=roc_auc,)\n",
    "roc_display.plot()\n",
    "plt.plot([0, 1], [0, 1], color='red', linestyle='--', label='Random Classifier')  # Diagonal line\n",
    "plt.title('ROC Curve')\n",
    "plt.show()\n",
    "# Printing the AUC value\n",
    "print(f\"Scikit-learn calculated AUC: {roc_auc:.2f}\")\n"
   ]
  },
  {
   "cell_type": "markdown",
   "id": "868cf463",
   "metadata": {
    "id": "868cf463"
   },
   "source": [
    "- From both methods we got the similar curve and only difference is the ROC curve generated by sklearn provides an AUC value that is labeled inside the graph by default, where as by generic python code we may have to develop it separate."
   ]
  }
 ],
 "metadata": {
  "colab": {
   "provenance": []
  },
  "kernelspec": {
   "display_name": "Python 3 (ipykernel)",
   "language": "python",
   "name": "python3"
  },
  "language_info": {
   "codemirror_mode": {
    "name": "ipython",
    "version": 3
   },
   "file_extension": ".py",
   "mimetype": "text/x-python",
   "name": "python",
   "nbconvert_exporter": "python",
   "pygments_lexer": "ipython3",
   "version": "3.10.9"
  }
 },
 "nbformat": 4,
 "nbformat_minor": 5
}
